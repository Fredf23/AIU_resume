{
  "nbformat": 4,
  "nbformat_minor": 0,
  "metadata": {
    "colab": {
      "provenance": [],
      "include_colab_link": true
    },
    "kernelspec": {
      "name": "python3",
      "display_name": "Python 3"
    },
    "language_info": {
      "name": "python"
    }
  },
  "cells": [
    {
      "cell_type": "markdown",
      "metadata": {
        "id": "view-in-github",
        "colab_type": "text"
      },
      "source": [
        "<a href=\"https://colab.research.google.com/github/Fredf23/AIU_resume/blob/master/%D0%9F%D1%80%D0%BE%D0%B2%D0%B5%D1%80%D0%BA%D0%B0_%D0%B7%D0%B0%D0%BF%D0%BE%D0%BB%D0%BD%D0%B5%D0%BD%D0%B8%D1%8F_%D1%80%D0%B5%D0%B7%D1%8E%D0%BC%D0%B5.ipynb\" target=\"_parent\"><img src=\"https://colab.research.google.com/assets/colab-badge.svg\" alt=\"Open In Colab\"/></a>"
      ]
    },
    {
      "cell_type": "code",
      "execution_count": null,
      "metadata": {
        "id": "7eAcgw4aCDrw",
        "colab": {
          "base_uri": "https://localhost:8080/"
        },
        "outputId": "1b6241c4-8466-4096-e40c-6c1c74ca8c44"
      },
      "outputs": [
        {
          "output_type": "stream",
          "name": "stdout",
          "text": [
            "Collecting tiktoken==0.4.0\n",
            "  Downloading tiktoken-0.4.0-cp310-cp310-manylinux_2_17_x86_64.manylinux2014_x86_64.whl (1.7 MB)\n",
            "\u001b[?25l     \u001b[90m━━━━━━━━━━━━━━━━━━━━━━━━━━━━━━━━━━━━━━━━\u001b[0m \u001b[32m0.0/1.7 MB\u001b[0m \u001b[31m?\u001b[0m eta \u001b[36m-:--:--\u001b[0m\r\u001b[2K     \u001b[91m━━━━\u001b[0m\u001b[91m╸\u001b[0m\u001b[90m━━━━━━━━━━━━━━━━━━━━━━━━━━━━━━━━━━━\u001b[0m \u001b[32m0.2/1.7 MB\u001b[0m \u001b[31m6.0 MB/s\u001b[0m eta \u001b[36m0:00:01\u001b[0m\r\u001b[2K     \u001b[91m━━━━━━━━━━━━━━━━━━━━━━━━━━━━━━━━━━━━━━━\u001b[0m\u001b[91m╸\u001b[0m \u001b[32m1.7/1.7 MB\u001b[0m \u001b[31m26.1 MB/s\u001b[0m eta \u001b[36m0:00:01\u001b[0m\r\u001b[2K     \u001b[90m━━━━━━━━━━━━━━━━━━━━━━━━━━━━━━━━━━━━━━━━\u001b[0m \u001b[32m1.7/1.7 MB\u001b[0m \u001b[31m21.7 MB/s\u001b[0m eta \u001b[36m0:00:00\u001b[0m\n",
            "\u001b[?25hCollecting openai==0.28.0\n",
            "  Downloading openai-0.28.0-py3-none-any.whl (76 kB)\n",
            "\u001b[2K     \u001b[90m━━━━━━━━━━━━━━━━━━━━━━━━━━━━━━━━━━━━━━━━\u001b[0m \u001b[32m76.5/76.5 kB\u001b[0m \u001b[31m9.4 MB/s\u001b[0m eta \u001b[36m0:00:00\u001b[0m\n",
            "\u001b[?25hCollecting langchain==0.0.281\n",
            "  Downloading langchain-0.0.281-py3-none-any.whl (1.6 MB)\n",
            "\u001b[2K     \u001b[90m━━━━━━━━━━━━━━━━━━━━━━━━━━━━━━━━━━━━━━━━\u001b[0m \u001b[32m1.6/1.6 MB\u001b[0m \u001b[31m75.9 MB/s\u001b[0m eta \u001b[36m0:00:00\u001b[0m\n",
            "\u001b[?25hCollecting unstructured\n",
            "  Downloading unstructured-0.10.28-py3-none-any.whl (1.7 MB)\n",
            "\u001b[2K     \u001b[90m━━━━━━━━━━━━━━━━━━━━━━━━━━━━━━━━━━━━━━━━\u001b[0m \u001b[32m1.7/1.7 MB\u001b[0m \u001b[31m102.5 MB/s\u001b[0m eta \u001b[36m0:00:00\u001b[0m\n",
            "\u001b[?25hCollecting pdf2image\n",
            "  Downloading pdf2image-1.16.3-py3-none-any.whl (11 kB)\n",
            "Collecting pdfminer.six\n",
            "  Downloading pdfminer.six-20221105-py3-none-any.whl (5.6 MB)\n",
            "\u001b[2K     \u001b[90m━━━━━━━━━━━━━━━━━━━━━━━━━━━━━━━━━━━━━━━━\u001b[0m \u001b[32m5.6/5.6 MB\u001b[0m \u001b[31m116.9 MB/s\u001b[0m eta \u001b[36m0:00:00\u001b[0m\n",
            "\u001b[?25hCollecting faiss-cpu==1.7.4\n",
            "  Downloading faiss_cpu-1.7.4-cp310-cp310-manylinux_2_17_x86_64.manylinux2014_x86_64.whl (17.6 MB)\n",
            "\u001b[2K     \u001b[90m━━━━━━━━━━━━━━━━━━━━━━━━━━━━━━━━━━━━━━━━\u001b[0m \u001b[32m17.6/17.6 MB\u001b[0m \u001b[31m121.1 MB/s\u001b[0m eta \u001b[36m0:00:00\u001b[0m\n",
            "\u001b[?25hRequirement already satisfied: regex>=2022.1.18 in /usr/local/lib/python3.10/dist-packages (from tiktoken==0.4.0) (2023.6.3)\n",
            "Requirement already satisfied: requests>=2.26.0 in /usr/local/lib/python3.10/dist-packages (from tiktoken==0.4.0) (2.31.0)\n",
            "Requirement already satisfied: tqdm in /usr/local/lib/python3.10/dist-packages (from openai==0.28.0) (4.66.1)\n",
            "Requirement already satisfied: aiohttp in /usr/local/lib/python3.10/dist-packages (from openai==0.28.0) (3.8.6)\n",
            "Requirement already satisfied: PyYAML>=5.3 in /usr/local/lib/python3.10/dist-packages (from langchain==0.0.281) (6.0.1)\n",
            "Requirement already satisfied: SQLAlchemy<3,>=1.4 in /usr/local/lib/python3.10/dist-packages (from langchain==0.0.281) (2.0.22)\n",
            "Requirement already satisfied: async-timeout<5.0.0,>=4.0.0 in /usr/local/lib/python3.10/dist-packages (from langchain==0.0.281) (4.0.3)\n",
            "Collecting dataclasses-json<0.6.0,>=0.5.7 (from langchain==0.0.281)\n",
            "  Downloading dataclasses_json-0.5.14-py3-none-any.whl (26 kB)\n",
            "Collecting langsmith<0.1.0,>=0.0.21 (from langchain==0.0.281)\n",
            "  Downloading langsmith-0.0.57-py3-none-any.whl (44 kB)\n",
            "\u001b[2K     \u001b[90m━━━━━━━━━━━━━━━━━━━━━━━━━━━━━━━━━━━━━━━━\u001b[0m \u001b[32m44.5/44.5 kB\u001b[0m \u001b[31m5.6 MB/s\u001b[0m eta \u001b[36m0:00:00\u001b[0m\n",
            "\u001b[?25hRequirement already satisfied: numexpr<3.0.0,>=2.8.4 in /usr/local/lib/python3.10/dist-packages (from langchain==0.0.281) (2.8.7)\n",
            "Requirement already satisfied: numpy<2,>=1 in /usr/local/lib/python3.10/dist-packages (from langchain==0.0.281) (1.23.5)\n",
            "Requirement already satisfied: pydantic<3,>=1 in /usr/local/lib/python3.10/dist-packages (from langchain==0.0.281) (1.10.13)\n",
            "Requirement already satisfied: tenacity<9.0.0,>=8.1.0 in /usr/local/lib/python3.10/dist-packages (from langchain==0.0.281) (8.2.3)\n",
            "Requirement already satisfied: chardet in /usr/local/lib/python3.10/dist-packages (from unstructured) (5.2.0)\n",
            "Collecting filetype (from unstructured)\n",
            "  Downloading filetype-1.2.0-py2.py3-none-any.whl (19 kB)\n",
            "Collecting python-magic (from unstructured)\n",
            "  Downloading python_magic-0.4.27-py2.py3-none-any.whl (13 kB)\n",
            "Requirement already satisfied: lxml in /usr/local/lib/python3.10/dist-packages (from unstructured) (4.9.3)\n",
            "Requirement already satisfied: nltk in /usr/local/lib/python3.10/dist-packages (from unstructured) (3.8.1)\n",
            "Requirement already satisfied: tabulate in /usr/local/lib/python3.10/dist-packages (from unstructured) (0.9.0)\n",
            "Requirement already satisfied: beautifulsoup4 in /usr/local/lib/python3.10/dist-packages (from unstructured) (4.11.2)\n",
            "Collecting emoji (from unstructured)\n",
            "  Downloading emoji-2.8.0-py2.py3-none-any.whl (358 kB)\n",
            "\u001b[2K     \u001b[90m━━━━━━━━━━━━━━━━━━━━━━━━━━━━━━━━━━━━━━━━\u001b[0m \u001b[32m358.9/358.9 kB\u001b[0m \u001b[31m45.2 MB/s\u001b[0m eta \u001b[36m0:00:00\u001b[0m\n",
            "\u001b[?25hCollecting python-iso639 (from unstructured)\n",
            "  Downloading python_iso639-2023.6.15-py3-none-any.whl (275 kB)\n",
            "\u001b[2K     \u001b[90m━━━━━━━━━━━━━━━━━━━━━━━━━━━━━━━━━━━━━━━━\u001b[0m \u001b[32m275.1/275.1 kB\u001b[0m \u001b[31m37.0 MB/s\u001b[0m eta \u001b[36m0:00:00\u001b[0m\n",
            "\u001b[?25hCollecting langdetect (from unstructured)\n",
            "  Downloading langdetect-1.0.9.tar.gz (981 kB)\n",
            "\u001b[2K     \u001b[90m━━━━━━━━━━━━━━━━━━━━━━━━━━━━━━━━━━━━━━━━\u001b[0m \u001b[32m981.5/981.5 kB\u001b[0m \u001b[31m80.5 MB/s\u001b[0m eta \u001b[36m0:00:00\u001b[0m\n",
            "\u001b[?25h  Preparing metadata (setup.py) ... \u001b[?25l\u001b[?25hdone\n",
            "Collecting rapidfuzz (from unstructured)\n",
            "  Downloading rapidfuzz-3.5.2-cp310-cp310-manylinux_2_17_x86_64.manylinux2014_x86_64.whl (3.3 MB)\n",
            "\u001b[2K     \u001b[90m━━━━━━━━━━━━━━━━━━━━━━━━━━━━━━━━━━━━━━━━\u001b[0m \u001b[32m3.3/3.3 MB\u001b[0m \u001b[31m93.5 MB/s\u001b[0m eta \u001b[36m0:00:00\u001b[0m\n",
            "\u001b[?25hCollecting backoff (from unstructured)\n",
            "  Downloading backoff-2.2.1-py3-none-any.whl (15 kB)\n",
            "Requirement already satisfied: typing-extensions in /usr/local/lib/python3.10/dist-packages (from unstructured) (4.5.0)\n",
            "Requirement already satisfied: pillow in /usr/local/lib/python3.10/dist-packages (from pdf2image) (9.4.0)\n",
            "Requirement already satisfied: charset-normalizer>=2.0.0 in /usr/local/lib/python3.10/dist-packages (from pdfminer.six) (3.3.1)\n",
            "Requirement already satisfied: cryptography>=36.0.0 in /usr/local/lib/python3.10/dist-packages (from pdfminer.six) (41.0.5)\n",
            "Requirement already satisfied: attrs>=17.3.0 in /usr/local/lib/python3.10/dist-packages (from aiohttp->openai==0.28.0) (23.1.0)\n",
            "Requirement already satisfied: multidict<7.0,>=4.5 in /usr/local/lib/python3.10/dist-packages (from aiohttp->openai==0.28.0) (6.0.4)\n",
            "Requirement already satisfied: yarl<2.0,>=1.0 in /usr/local/lib/python3.10/dist-packages (from aiohttp->openai==0.28.0) (1.9.2)\n",
            "Requirement already satisfied: frozenlist>=1.1.1 in /usr/local/lib/python3.10/dist-packages (from aiohttp->openai==0.28.0) (1.4.0)\n",
            "Requirement already satisfied: aiosignal>=1.1.2 in /usr/local/lib/python3.10/dist-packages (from aiohttp->openai==0.28.0) (1.3.1)\n",
            "Requirement already satisfied: cffi>=1.12 in /usr/local/lib/python3.10/dist-packages (from cryptography>=36.0.0->pdfminer.six) (1.16.0)\n",
            "Collecting marshmallow<4.0.0,>=3.18.0 (from dataclasses-json<0.6.0,>=0.5.7->langchain==0.0.281)\n",
            "  Downloading marshmallow-3.20.1-py3-none-any.whl (49 kB)\n",
            "\u001b[2K     \u001b[90m━━━━━━━━━━━━━━━━━━━━━━━━━━━━━━━━━━━━━━━━\u001b[0m \u001b[32m49.4/49.4 kB\u001b[0m \u001b[31m4.0 MB/s\u001b[0m eta \u001b[36m0:00:00\u001b[0m\n",
            "\u001b[?25hCollecting typing-inspect<1,>=0.4.0 (from dataclasses-json<0.6.0,>=0.5.7->langchain==0.0.281)\n",
            "  Downloading typing_inspect-0.9.0-py3-none-any.whl (8.8 kB)\n",
            "Requirement already satisfied: idna<4,>=2.5 in /usr/local/lib/python3.10/dist-packages (from requests>=2.26.0->tiktoken==0.4.0) (3.4)\n",
            "Requirement already satisfied: urllib3<3,>=1.21.1 in /usr/local/lib/python3.10/dist-packages (from requests>=2.26.0->tiktoken==0.4.0) (2.0.7)\n",
            "Requirement already satisfied: certifi>=2017.4.17 in /usr/local/lib/python3.10/dist-packages (from requests>=2.26.0->tiktoken==0.4.0) (2023.7.22)\n",
            "Requirement already satisfied: greenlet!=0.4.17 in /usr/local/lib/python3.10/dist-packages (from SQLAlchemy<3,>=1.4->langchain==0.0.281) (3.0.0)\n",
            "Requirement already satisfied: soupsieve>1.2 in /usr/local/lib/python3.10/dist-packages (from beautifulsoup4->unstructured) (2.5)\n",
            "Requirement already satisfied: six in /usr/local/lib/python3.10/dist-packages (from langdetect->unstructured) (1.16.0)\n",
            "Requirement already satisfied: click in /usr/local/lib/python3.10/dist-packages (from nltk->unstructured) (8.1.7)\n",
            "Requirement already satisfied: joblib in /usr/local/lib/python3.10/dist-packages (from nltk->unstructured) (1.3.2)\n",
            "Requirement already satisfied: pycparser in /usr/local/lib/python3.10/dist-packages (from cffi>=1.12->cryptography>=36.0.0->pdfminer.six) (2.21)\n",
            "Requirement already satisfied: packaging>=17.0 in /usr/local/lib/python3.10/dist-packages (from marshmallow<4.0.0,>=3.18.0->dataclasses-json<0.6.0,>=0.5.7->langchain==0.0.281) (23.2)\n",
            "Collecting mypy-extensions>=0.3.0 (from typing-inspect<1,>=0.4.0->dataclasses-json<0.6.0,>=0.5.7->langchain==0.0.281)\n",
            "  Downloading mypy_extensions-1.0.0-py3-none-any.whl (4.7 kB)\n",
            "Building wheels for collected packages: langdetect\n",
            "  Building wheel for langdetect (setup.py) ... \u001b[?25l\u001b[?25hdone\n",
            "  Created wheel for langdetect: filename=langdetect-1.0.9-py3-none-any.whl size=993224 sha256=c31ca794afeefe8bb4836b702fa075a8ee79116b012385bc9ca3c0bb160143eb\n",
            "  Stored in directory: /root/.cache/pip/wheels/95/03/7d/59ea870c70ce4e5a370638b5462a7711ab78fba2f655d05106\n",
            "Successfully built langdetect\n",
            "Installing collected packages: filetype, faiss-cpu, rapidfuzz, python-magic, python-iso639, pdf2image, mypy-extensions, marshmallow, langdetect, emoji, backoff, typing-inspect, tiktoken, langsmith, pdfminer.six, openai, dataclasses-json, unstructured, langchain\n",
            "\u001b[31mERROR: pip's dependency resolver does not currently take into account all the packages that are installed. This behaviour is the source of the following dependency conflicts.\n",
            "llmx 0.0.15a0 requires cohere, which is not installed.\u001b[0m\u001b[31m\n",
            "\u001b[0mSuccessfully installed backoff-2.2.1 dataclasses-json-0.5.14 emoji-2.8.0 faiss-cpu-1.7.4 filetype-1.2.0 langchain-0.0.281 langdetect-1.0.9 langsmith-0.0.57 marshmallow-3.20.1 mypy-extensions-1.0.0 openai-0.28.0 pdf2image-1.16.3 pdfminer.six-20221105 python-iso639-2023.6.15 python-magic-0.4.27 rapidfuzz-3.5.2 tiktoken-0.4.0 typing-inspect-0.9.0 unstructured-0.10.28\n"
          ]
        }
      ],
      "source": [
        "!pip install tiktoken==0.4.0 openai==0.28.0 langchain==0.0.281 unstructured pdf2image pdfminer.six faiss-cpu==1.7.4"
      ]
    },
    {
      "cell_type": "code",
      "source": [
        "!pip install openai==0.28.0"
      ],
      "metadata": {
        "colab": {
          "base_uri": "https://localhost:8080/"
        },
        "id": "7incO54AoVZE",
        "outputId": "ad279c7c-f067-4337-b7eb-b5190ac717ab"
      },
      "execution_count": null,
      "outputs": [
        {
          "output_type": "stream",
          "name": "stdout",
          "text": [
            "Requirement already satisfied: openai==0.28.0 in /usr/local/lib/python3.10/dist-packages (0.28.0)\n",
            "Requirement already satisfied: requests>=2.20 in /usr/local/lib/python3.10/dist-packages (from openai==0.28.0) (2.31.0)\n",
            "Requirement already satisfied: tqdm in /usr/local/lib/python3.10/dist-packages (from openai==0.28.0) (4.66.1)\n",
            "Requirement already satisfied: aiohttp in /usr/local/lib/python3.10/dist-packages (from openai==0.28.0) (3.8.6)\n",
            "Requirement already satisfied: charset-normalizer<4,>=2 in /usr/local/lib/python3.10/dist-packages (from requests>=2.20->openai==0.28.0) (3.3.1)\n",
            "Requirement already satisfied: idna<4,>=2.5 in /usr/local/lib/python3.10/dist-packages (from requests>=2.20->openai==0.28.0) (3.4)\n",
            "Requirement already satisfied: urllib3<3,>=1.21.1 in /usr/local/lib/python3.10/dist-packages (from requests>=2.20->openai==0.28.0) (2.0.7)\n",
            "Requirement already satisfied: certifi>=2017.4.17 in /usr/local/lib/python3.10/dist-packages (from requests>=2.20->openai==0.28.0) (2023.7.22)\n",
            "Requirement already satisfied: attrs>=17.3.0 in /usr/local/lib/python3.10/dist-packages (from aiohttp->openai==0.28.0) (23.1.0)\n",
            "Requirement already satisfied: multidict<7.0,>=4.5 in /usr/local/lib/python3.10/dist-packages (from aiohttp->openai==0.28.0) (6.0.4)\n",
            "Requirement already satisfied: async-timeout<5.0,>=4.0.0a3 in /usr/local/lib/python3.10/dist-packages (from aiohttp->openai==0.28.0) (4.0.3)\n",
            "Requirement already satisfied: yarl<2.0,>=1.0 in /usr/local/lib/python3.10/dist-packages (from aiohttp->openai==0.28.0) (1.9.2)\n",
            "Requirement already satisfied: frozenlist>=1.1.1 in /usr/local/lib/python3.10/dist-packages (from aiohttp->openai==0.28.0) (1.4.0)\n",
            "Requirement already satisfied: aiosignal>=1.1.2 in /usr/local/lib/python3.10/dist-packages (from aiohttp->openai==0.28.0) (1.3.1)\n"
          ]
        }
      ]
    },
    {
      "cell_type": "code",
      "source": [
        "import openai\n",
        "import getpass\n",
        "import re\n",
        "import requests\n",
        "import os\n",
        "openai_key = getpass.getpass(\"OpenAI API Key:\")\n",
        "os.environ[\"OPENAI_API_KEY\"] = openai_key\n",
        "openai.api_key = openai_key"
      ],
      "metadata": {
        "id": "6PF6T1TGGSzn",
        "colab": {
          "base_uri": "https://localhost:8080/"
        },
        "outputId": "d4844ff6-18b3-4235-cb23-485fa0cefaca"
      },
      "execution_count": null,
      "outputs": [
        {
          "name": "stdout",
          "output_type": "stream",
          "text": [
            "OpenAI API Key:··········\n"
          ]
        }
      ]
    },
    {
      "cell_type": "code",
      "source": [
        "# функция для загрузки документа по ссылке из гугл драйв\n",
        "def load_document_text(url: str) -> str:\n",
        "    # Extract the document ID from the URL\n",
        "    match_ = re.search('/document/d/([a-zA-Z0-9-_]+)', url)\n",
        "    if match_ is None:\n",
        "        raise ValueError('Invalid Google Docs URL')\n",
        "    doc_id = match_.group(1)\n",
        "\n",
        "    # Download the document as plain text\n",
        "    response = requests.get(f'https://docs.google.com/document/d/{doc_id}/export?format=txt')\n",
        "    response.raise_for_status()\n",
        "    text = response.text\n",
        "\n",
        "    return text"
      ],
      "metadata": {
        "id": "bjq-3lKq2bmX"
      },
      "execution_count": null,
      "outputs": []
    },
    {
      "cell_type": "code",
      "source": [
        "# Функция для представления длинного ответа в удобочитаемом виде\n",
        "def insert_newlines(text: str, max_len: int = 170) -> str:\n",
        "    \"\"\"\n",
        "    Функция разбивает длинный текст на строки определенной максимальной длины.\n",
        "    \"\"\"\n",
        "    words = text.split()\n",
        "    lines = []\n",
        "    current_line = \"\"\n",
        "    for word in words:\n",
        "        if len(current_line + \" \" + word) > max_len:\n",
        "            lines.append(current_line)\n",
        "            current_line = \"\"\n",
        "        current_line += \" \" + word\n",
        "    lines.append(current_line)\n",
        "    return \"\\n\".join(lines)"
      ],
      "metadata": {
        "id": "Z2SPmDUsnyOE"
      },
      "execution_count": null,
      "outputs": []
    },
    {
      "cell_type": "code",
      "source": [
        "# ПРОМПТ в system\n",
        "system = load_document_text('https://docs.google.com/document/d/12fSAEOmhbkLTHrDq84OCI8Myo0HnHQ575yh02lzCNI8/edit?usp=sharing')"
      ],
      "metadata": {
        "id": "15CqoF0_2Dud"
      },
      "execution_count": null,
      "outputs": []
    },
    {
      "cell_type": "code",
      "source": [
        "print (system)"
      ],
      "metadata": {
        "id": "7xdXi1m4LhX7"
      },
      "execution_count": null,
      "outputs": []
    },
    {
      "cell_type": "code",
      "source": [
        "# Образец резюме\n",
        "resume_sample = load_document_text(\n",
        "    'https://docs.google.com/document/d/1UeR8y8husKJCVT5M-mQ_N8rKk-BKVAex/edit?usp=sharing&ouid=113312547144364951406&rtpof=true&sd=true')"
      ],
      "metadata": {
        "id": "PO15jJ1ywm93"
      },
      "execution_count": null,
      "outputs": []
    },
    {
      "cell_type": "code",
      "source": [
        "with open ('resume_sample.txt', 'w') as file:\n",
        "  file.write(resume_sample)"
      ],
      "metadata": {
        "id": "6kfJeJ8XHONb"
      },
      "execution_count": null,
      "outputs": []
    },
    {
      "cell_type": "code",
      "source": [
        "print (resume_sample)"
      ],
      "metadata": {
        "colab": {
          "base_uri": "https://localhost:8080/"
        },
        "id": "mqayEoIhC_Wx",
        "outputId": "19d58eaf-26b2-4a7f-e1f2-3b671b62b610"
      },
      "execution_count": null,
      "outputs": [
        {
          "output_type": "stream",
          "name": "stdout",
          "text": [
            "﻿Вячеслав Лабзин  \r\n",
            "Data Scientist\r\n",
            "КОНТАКТЫ  \r\n",
            "  \r\n",
            "\r\n",
            "+7(499)-123-47-85                @L_Viacheslav  \r\n",
            "labzin@mail.ru  \r\n",
            "https://github.com/Vyacheslav53/ChatGPT\r\n",
            "\r\n",
            "\r\n",
            "О СЕБЕ\r\n",
            "\r\n",
            "\r\n",
            "Я Junior специалист в сфере искусственного интеллекта. Имею опыт работы с анализом данных, разработкой нейронных сетей. \r\n",
            "Активно изучаю и работаю с ChatGPT. \r\n",
            "Примеры работ представлены на GitHub https://github.com/Vyacheslav53/ChatGPT\r\n",
            "\r\n",
            "\r\n",
            "НАВЫКИ\r\n",
            "\r\n",
            "\r\n",
            "Python, GPT (языковое моделирование), NumPy, Pandas, Matplotlib, Seaborn, Keras,Tensorflow \r\n",
            "\r\n",
            "\r\n",
            "ПРОФЕССИОНАЛЬНАЯ ДЕЯТЕЛЬНОСТЬ\r\n",
            "\r\n",
            "\r\n",
            "08.2023-10.2023\r\n",
            "ООО «Терра ЭйАй»\r\n",
            "Проект: Создание веб-сайта для генерации резюме и сопроводительных писем\r\n",
            "\r\n",
            "\r\n",
            "СТАЖЕР\r\n",
            "\r\n",
            "\r\n",
            "Задачи:\r\n",
            "* проверка орфографии с помощью ChatGPT\r\n",
            "* создание диалога с помощью ChatGPT для анкетирования клиента при составлении резюме\r\n",
            "\r\n",
            "\r\n",
            "Достижения:\r\n",
            "* разработал код для выявления и исправления ошибок с помощью ChatGPT в составленном резюме\r\n",
            "* разработал код для анкетирования клиента с помощью ChatGPT и получения из диалога данных для последующего составления резюме\r\n",
            "\r\n",
            "\r\n",
            "\r\n",
            "\r\n",
            "05.2023-07.2023\r\n",
            "«Федеральный исследовательский центр информационных и вычислительных технологий» РОССИЙСКАЯ АКАДЕМИЯ НАУК\r\n",
            "Проект: Разработка нейронной сети для обработки данных горного эндоскопа\r\n",
            "\r\n",
            "\r\n",
            "СТАЖЕР\r\n",
            "\r\n",
            "\r\n",
            "Задачи:\r\n",
            "* разметка датасета заказчика, сегментация трещин на снимках эндоскопа\r\n",
            "* обучение нейронной сети для определения трещин на снимках эндоскопа\r\n",
            "\r\n",
            "\r\n",
            "Достижения:\r\n",
            "* выполнил разметку трещин в программе Roboflow\r\n",
            "* обучил Yolo 8 для определения трещин на датасете заказчика\r\n",
            "\r\n",
            "\r\n",
            "\r\n",
            "\r\n",
            "2016 - сейчас\r\n",
            "ООО «КЗ «Ростсельмаш»\r\n",
            "\r\n",
            "\r\n",
            "ГЛАВНЫЙ СПЕЦИАЛИСТ МАТЕРИАЛЬНО-ТЕХНИЧЕСКОГО СНАБЖЕНИЯ ПО ЦЕНООБРАЗОВАНИЮ\r\n",
            "\r\n",
            "\r\n",
            "* проверка и согласование цен на покупные товарно-материальные ценности\r\n",
            "* проверка себестоимости производства\r\n",
            "\r\n",
            "\r\n",
            "\r\n",
            "\r\n",
            "2004-2016\r\n",
            "ОАО «АВТОВАЗ»\r\n",
            "\r\n",
            "\r\n",
            "НАЧ.БЮРО, ЗАМ.НАЧ.ОТДЕЛА ПЛАНОВО-БЮДЖЕТНОГО УПРАВЛЕНИЯ\r\n",
            "\r\n",
            "\r\n",
            "* согласование цен на покупные товарно-материальные ценности\r\n",
            "* разработка и согласование бюджета\r\n",
            "\r\n",
            "\r\n",
            "ОБРАЗОВАНИЕ\r\n",
            "\r\n",
            "\r\n",
            "2023\r\n",
            "УНИВЕРСИТЕТ ИСКУССТВЕННОГО ИНТЕЛЛЕКТА\r\n",
            "* Chat GPT Professional\r\n",
            "* Data Science и нейронные сети\r\n",
            "\r\n",
            "\r\n",
            "\r\n",
            "\r\n",
            "2001\r\n",
            "ТОЛЬЯТТИНСКИЙ ПОЛИТЕХНИЧЕСКИЙ ИНСТИТУТ\r\n",
            "* Инженер-технолог сварочного производства\n"
          ]
        }
      ]
    },
    {
      "cell_type": "code",
      "source": [
        "# Резюме без образования\n",
        "resume_none_educ = load_document_text(\n",
        "    'https://docs.google.com/document/d/1qBuuFUhOPLqpIhfX5-ZdrhN8YVtzOrF3/edit?usp=sharing&ouid=113312547144364951406&rtpof=true&sd=true')"
      ],
      "metadata": {
        "id": "kuzAD2QZWc6M"
      },
      "execution_count": null,
      "outputs": []
    },
    {
      "cell_type": "code",
      "source": [
        "# Резюме без контактов\n",
        "resume_none_cont = load_document_text(\n",
        "    'https://docs.google.com/document/d/1eUx1vIDmLk1frN2h8mHTiRkDY7hqgjc0/edit?usp=sharing&ouid=113312547144364951406&rtpof=true&sd=true')"
      ],
      "metadata": {
        "id": "14hNZDccW_j6"
      },
      "execution_count": null,
      "outputs": []
    },
    {
      "cell_type": "code",
      "source": [
        "# Резюме без навыков\n",
        "resume_none_skills = load_document_text(\n",
        "    'https://docs.google.com/document/d/1itZcIdHrSe9_SuheJvOx7Qm084WFfEW3/edit?usp=sharing&ouid=113312547144364951406&rtpof=true&sd=true')"
      ],
      "metadata": {
        "id": "VhP0mE2EXcRN"
      },
      "execution_count": null,
      "outputs": []
    },
    {
      "cell_type": "code",
      "source": [
        "# Другое резюме без навыков\n",
        "resume_none_skills_2 = load_document_text(\n",
        "    'https://docs.google.com/document/d/1IdeQdCB_Yqubn4UDpVGTHEK0IrcKiTey/edit?usp=sharing&ouid=113312547144364951406&rtpof=true&sd=true')"
      ],
      "metadata": {
        "id": "Rc2jrD2wuY8U"
      },
      "execution_count": null,
      "outputs": []
    },
    {
      "cell_type": "code",
      "source": [
        "# Резюме с нерелевантным образованием\n",
        "resume_fall_educ = load_document_text(\n",
        "    'https://docs.google.com/document/d/1vdIIE7dfBtfDvi3ZjzU-2bOSfLe6Lkq_/edit?usp=sharing&ouid=113312547144364951406&rtpof=true&sd=true')"
      ],
      "metadata": {
        "id": "755eK9tHX0Ml"
      },
      "execution_count": null,
      "outputs": []
    },
    {
      "cell_type": "code",
      "source": [
        "# Резюме без блока \"О себе\"\n",
        "resume_none_me = load_document_text(\n",
        "    'https://docs.google.com/document/d/1Ije4qmt7Nur1E4zzrIoCWE442X8xOsVf/edit?usp=sharing&ouid=113312547144364951406&rtpof=true&sd=true')"
      ],
      "metadata": {
        "id": "dKkJwvtLYp23"
      },
      "execution_count": null,
      "outputs": []
    },
    {
      "cell_type": "code",
      "source": [
        "response = openai.ChatCompletion.create(\n",
        "  model=\"gpt-3.5-turbo\",\n",
        "  messages=[\n",
        "        {\"role\": \"system\", \"content\": f\"{system} \\n\\nОбразец правильно составленного резюме: {resume_sample}\"},\n",
        "        {\"role\": \"user\", \"content\": f\"Кратко укажи замечания по заполнению резюме: {resume_none_educ}.\"},\n",
        "        {\"role\": \"assistant\", \"content\": \"В резюме не заполнен блок Образование. Добавьте свое образование, связанное с IT специальностями.\"},\n",
        "        {\"role\": \"user\", \"content\": f\"Кратко укажи замечания по заполнению резюме: {resume_none_cont}.\"}\n",
        "    ]\n",
        ")\n",
        "answer = insert_newlines(response['choices'][0]['message']['content'])\n",
        "print(answer)"
      ],
      "metadata": {
        "colab": {
          "base_uri": "https://localhost:8080/"
        },
        "id": "35zIRPqCsvuG",
        "outputId": "b904bfca-8a97-41fd-cf46-31d389854539"
      },
      "execution_count": null,
      "outputs": [
        {
          "output_type": "stream",
          "name": "stdout",
          "text": [
            " - В блоке \"КОНТАКТЫ\" не указаны контактные данные, такие как телефон и email. - В блоке \"ОБО МНЕ\" не указано, что ты являешься выпускником IT университета. - Блок\n",
            " \"НАВЫКИ\" заполнен правильно. - В блоке \"ПРОФЕССИОНАЛЬНАЯ ДЕЯТЕЛЬНОСТЬ\" указаны нерелевантные для IT специалиста позиции. - В блоке \"ОБРАЗОВАНИЕ\" отсутствуют данные о\n",
            " твоем образовании в IT сфере.\n"
          ]
        }
      ]
    },
    {
      "cell_type": "code",
      "source": [
        "response = openai.ChatCompletion.create(\n",
        "  model=\"gpt-3.5-turbo\",\n",
        "  messages=[\n",
        "        {\"role\": \"system\", \"content\": f\"{system} \\n\\nОбразец правильно составленного резюме: {resume_sample}\"},\n",
        "        {\"role\": \"user\", \"content\": f\"Кратко укажи замечания по заполнению резюме: {resume_none_educ}.\"},\n",
        "        {\"role\": \"assistant\", \"content\": \"В резюме не заполнен блок Образование. Добавьте свое образование, связанное с IT специальностями.\"},\n",
        "        {\"role\": \"user\", \"content\": f\"Кратко укажи замечания по заполнению резюме: {resume_none_me}.\"}\n",
        "    ]\n",
        ")\n",
        "\n",
        "answer = insert_newlines(response['choices'][0]['message']['content'])\n",
        "print(answer)"
      ],
      "metadata": {
        "colab": {
          "base_uri": "https://localhost:8080/"
        },
        "id": "pD8lWwvoaztx",
        "outputId": "6c4dfce4-a851-4416-ea96-a544037c8423"
      },
      "execution_count": null,
      "outputs": [
        {
          "output_type": "stream",
          "name": "stdout",
          "text": [
            " В резюме не заполнено поле \"О СЕБЕ\". Добавьте информацию о себе, связанную с IT специальностью, например, ваш опыт работы с анализом данных и разработкой нейронных\n",
            " сетей. Также, блок \"Навыки\" заполнен некорректно. Укажите конкретные IT навыки, такие как Python, GPT (языковое моделирование), NumPy, Pandas, Matplotlib, Seaborn,\n",
            " Keras, TensorFlow.\n"
          ]
        }
      ]
    },
    {
      "cell_type": "code",
      "source": [
        "response = openai.ChatCompletion.create(\n",
        "  model=\"gpt-3.5-turbo\",\n",
        "  messages=[\n",
        "        {\"role\": \"system\", \"content\": f\"{system} \\n\\nОбразец правильно составленного резюме: {resume_sample}\"},\n",
        "        {\"role\": \"user\", \"content\": f\"Кратко укажи замечания по заполнению резюме: {resume_none_educ}.\"},\n",
        "        {\"role\": \"assistant\", \"content\": \"В резюме не заполнен блок Образование. Добавьте свое образование, связанное с IT специальностями.\"},\n",
        "        {\"role\": \"user\", \"content\": f\"Кратко укажи замечания по заполнению резюме: {resume_fall_educ}.\"}\n",
        "    ]\n",
        ")\n",
        "\n",
        "answer = insert_newlines(response['choices'][0]['message']['content'])\n",
        "print(answer)"
      ],
      "metadata": {
        "colab": {
          "base_uri": "https://localhost:8080/"
        },
        "id": "UgmU44-Yh2J_",
        "outputId": "b59faa19-7cdf-4dff-bb0c-070a103a4178"
      },
      "execution_count": null,
      "outputs": [
        {
          "output_type": "stream",
          "name": "stdout",
          "text": [
            " Замечания по заполнению резюме: 1. В блоке \"О себе\" указано, что вы являетесь Junior специалистом в сфере искусственного интеллекта и имеете опыт работы с анализом\n",
            " данных и разработкой нейронных сетей. Это информация релевантна и соответствует IT специальности. 2. В блоке \"Навыки\" указаны навыки, связанные с IT: Python, GPT\n",
            " (языковое моделирование), NumPy, Pandas, Matplotlib, Seaborn, Keras, TensorFlow. Навыки соответствуют IT специальности. 3. В блоке \"Профессиональная деятельность\"\n",
            " указаны проекты и стажировки, связанные с IT и анализом данных. Это релевантная информация. 4. В блоке \"Образование\" указано ваше высшее образование, связанное с\n",
            " инженерно-технической специальностью. Возможно, стоит добавить информацию о получении образования в области IT или специализированных курсах. Основные замечания к\n",
            " резюме: добавить информацию об образовании, связанном с IT, и более подробно описать проекты и стажировки, связанные с анализом данных и разработкой нейронных сетей.\n"
          ]
        }
      ]
    },
    {
      "cell_type": "code",
      "source": [
        "response = openai.ChatCompletion.create(\n",
        "  model=\"gpt-3.5-turbo\",\n",
        "  messages=[\n",
        "        {\"role\": \"system\", \"content\": f\"{system} \\n\\nОбразец правильно составленного резюме: {resume_sample}\"},\n",
        "        {\"role\": \"user\", \"content\": f\" Кратко укажи замечания по заполнению резюме: {resume_none_educ}.\"},\n",
        "        {\"role\": \"assistant\", \"content\": \"В резюме не заполнен блок Образование. Добавьте свое образование, связанное с IT специальностями.\"},\n",
        "        {\"role\": \"user\", \"content\": f\"Кратко укажи замечания по заполнению резюме: {resume_none_skills}.\"}\n",
        "    ]\n",
        ")\n",
        "\n",
        "answer = insert_newlines(response['choices'][0]['message']['content'])\n",
        "print(answer)"
      ],
      "metadata": {
        "colab": {
          "base_uri": "https://localhost:8080/"
        },
        "id": "L0NDJrv9ctqq",
        "outputId": "c8436f3e-cf76-4536-ed8c-2df9d5029270"
      },
      "execution_count": null,
      "outputs": [
        {
          "output_type": "stream",
          "name": "stdout",
          "text": [
            " - В блоке \"Навыки\" не указаны конкретные IT навыки. Добавьте IT навыки, такие как Python, GPT (языковое моделирование), NumPy, Pandas, Matplotlib, Seaborn, Keras,\n",
            " Tensorflow. - В блоке \"Образование\" не указано связанное с IT специальностью образование. Добавьте информацию о вашем образовании, связанном с Data Science и нейронными\n",
            " сетями, например, курсы, сертификаты или программы обучения. - В блоках \"Профессиональная деятельность\" указаны опыт работы, не связанный с IT специальностью. Уберите\n",
            " информацию о работе, которая не относится к IT сфере. - В блоке \"О себе\" исчезло описание вашего опыта работы с анализом данных, разработкой нейронных сетей и активного\n",
            " изучения и работы с ChatGPT. Добавьте эту информацию в блок \"О себе\".\n"
          ]
        }
      ]
    },
    {
      "cell_type": "code",
      "source": [
        "# Изменил резюме\n",
        "response = openai.ChatCompletion.create(\n",
        "  model=\"gpt-3.5-turbo\",\n",
        "  messages=[\n",
        "        {\"role\": \"system\", \"content\": f\"{system} \\n\\nОбразец правильно составленного резюме: {resume_sample}\"},\n",
        "        {\"role\": \"user\", \"content\": f\" Кратко укажи замечания по заполнению резюме: {resume_none_educ}.\"},\n",
        "        {\"role\": \"assistant\", \"content\": \"В резюме не заполнен блок Образование. Добавьте свое образование, связанное с IT специальностями.\"},\n",
        "        {\"role\": \"user\", \"content\": f\"Кратко укажи замечания по заполнению резюме: {resume_none_skills_2}.\"}\n",
        "    ]\n",
        ")\n",
        "\n",
        "answer = insert_newlines(response['choices'][0]['message']['content'])\n",
        "print(answer)"
      ],
      "metadata": {
        "colab": {
          "base_uri": "https://localhost:8080/"
        },
        "id": "FQvPE2wrus3s",
        "outputId": "8090c774-2ba6-40e9-c4bb-751312017abe"
      },
      "execution_count": null,
      "outputs": [
        {
          "output_type": "stream",
          "name": "stdout",
          "text": [
            " Замечания по заполнению резюме: 1. В блоке \"Навыки\" не указаны IT навыки. Укажите конкретные IT навыки, которыми вы владеете, например: Python, C++, Java, NumPy, Pandas,\n",
            " Matplotlib, Seaborn, Librosa, Gensim, Pymorphy2, Scikit-learn, SciPy, Keras, Pytorch. 2. В блоке \"Профессиональная деятельность\" необходимо указать должности и задачи,\n",
            " связанные с IT сферой. Удалите информацию о приеме сотрудников на работу в ООО \"РЖД\" и формировании бюджета в ОАО \"ГАЗ\", так как они не относятся к IT специализации. 3.\n",
            " В блоке \"Образование\" не указано образование, связанное с IT специальностями. Укажите ваше образование в сфере искусственного интеллекта или data science.\n"
          ]
        }
      ]
    }
  ]
}